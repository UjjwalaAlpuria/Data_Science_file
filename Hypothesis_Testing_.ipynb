{
  "nbformat": 4,
  "nbformat_minor": 0,
  "metadata": {
    "colab": {
      "provenance": []
    },
    "kernelspec": {
      "name": "python3",
      "display_name": "Python 3"
    },
    "language_info": {
      "name": "python"
    }
  },
  "cells": [
    {
      "cell_type": "code",
      "execution_count": 78,
      "metadata": {
        "id": "EH15x9kAB9Qx"
      },
      "outputs": [],
      "source": [
        "# HYPOTHESIS TESTING\n",
        "\n",
        "# Bombay hospitality Ltd. operates a franchise model for producing exotic Norwegian dinners throughout New England. The operating cost for a franchise in a week (W) is given by the equation W = $1,000 + $5X, where X represents the number of units produced in a week. Recent feedback from restaurant owners suggests that this cost model may no longer be accurate, as their observed weekly operating costs are higher.\n",
        "# Objective: To investigate the restaurant owners' claim about the increase in weekly operating costs using hypothesis testing.\n",
        "# Data Provided:\n",
        "#  •\tThe theoretical weekly operating cost model: W = $1,000 + $5X\n",
        "#  •\tSample of 25 restaurants with a mean weekly cost of Rs. 3,050\n",
        "#  •\tNumber of units produced in a week (X) follows a normal distribution with a mean (μ) of 600 units and a standard deviation (σ) of 25 units\n",
        "\n",
        "#ASSINGNMENT TASKS\n",
        "\n"
      ]
    },
    {
      "cell_type": "code",
      "source": [
        "# 1 .State the hypotheses statements:\n",
        "\n",
        "# W =1000+5X\n",
        "# MEAN = 600 (OF NUMBER OF UNIT PRODUCE PER WEEK)\n",
        "# SO THE EXPECTED MEAN WEEKLY COST  mu = 1000+5(600)=4000\n",
        "print(\"mu =\",(1000 + 5 * 600))\n",
        "\n",
        "#as the restraunt owner claim that the actual costs are higherthant the theorotical model\n",
        "#so it is a one tail model\n",
        " # null hypothesis (h0): = 4000\n",
        " # alternative hypothesis (ha): >4000\n",
        "\n",
        "\n",
        "\n"
      ],
      "metadata": {
        "id": "1oIFXs84rH5b",
        "colab": {
          "base_uri": "https://localhost:8080/"
        },
        "outputId": "4498eee3-c2a7-40b2-ae67-7e3d51b9926c"
      },
      "execution_count": 79,
      "outputs": [
        {
          "output_type": "stream",
          "name": "stdout",
          "text": [
            "mu = 4000\n"
          ]
        }
      ]
    },
    {
      "cell_type": "code",
      "source": [
        " # 2 .Calculate the Test Statistic\n",
        "\n",
        "import numpy as np\n",
        "from scipy import stats\n",
        "\n",
        "  #givin values\n",
        "\n",
        "mu = 4000  #theoritical mean\n",
        "x_bar = 3050 #sample mean\n",
        "sigma_x = 25 #std of units products\n",
        "sigma_w = 5*sigma_x #std of weekly cost\n",
        "n = 25   #sample size\n",
        "\n",
        "# Test statistic (t) (calculating t value automaticaly)\n",
        "t = (x_bar - mu) / (sigma_w/ np.sqrt(n))\n",
        "\n",
        "# One-tailed p-value (H1: mu > mu0)\n",
        "p_value = 1 - stats.norm.cdf(t)\n",
        "\n",
        "print(\"Test Statistic (t):\", t)"
      ],
      "metadata": {
        "colab": {
          "base_uri": "https://localhost:8080/"
        },
        "id": "KnwMT-_FwCUA",
        "outputId": "f3a2afd4-ceb8-41a7-c1d9-ca02cba24f0c"
      },
      "execution_count": 80,
      "outputs": [
        {
          "output_type": "stream",
          "name": "stdout",
          "text": [
            "Test Statistic (t): -38.0\n"
          ]
        }
      ]
    },
    {
      "cell_type": "code",
      "source": [
        "#Task 3\n",
        "# DETERMINING THE CRITICAL VALUES :\n",
        "\n",
        "# Critical value at alpha = 0.05 (one-tailed)\n",
        "crit_v = stats.norm.ppf(1 - 0.05) # WE USE PERCENT POINT FUNCTION (ppf) which gonna tell us the t score corresponding to a chosen tail probability\n",
        "                                  #without ppf we'd only know the probability, not the cut off point.\n",
        "\n",
        "print(\"Test Statistic (t):\", t)\n",
        "print(\"Critical Value (crit_v):\", crit_v)\n",
        "print(\"P-value:\", p_value)\n",
        "\n"
      ],
      "metadata": {
        "colab": {
          "base_uri": "https://localhost:8080/"
        },
        "id": "IhHefS62irxc",
        "outputId": "9bb45038-05f2-4c13-b4f2-1e13cbcbb195"
      },
      "execution_count": 81,
      "outputs": [
        {
          "output_type": "stream",
          "name": "stdout",
          "text": [
            "Test Statistic (t): -38.0\n",
            "Critical Value (crit_v): 1.6448536269514722\n",
            "P-value: 1.0\n"
          ]
        }
      ]
    },
    {
      "cell_type": "code",
      "source": [
        "# Task 4\n",
        "#Make a Decision\n",
        " # comparing test tatistic with crirical value\n",
        "\n",
        "if t > crit_v:\n",
        "    print(\"Reject H0 → Mean cost is significantly higher.\")\n",
        "else:\n",
        "    print(\"Fail to Reject H0 → No evidence that cost is higher.\")\n",
        "\n",
        " # Since the test statistic is less than the critical value,\n",
        " # we fail to reject the null hypothesis.\n",
        " # There is not enough evidence to support the claim that weekly operating costs are higher than the model suggests."
      ],
      "metadata": {
        "colab": {
          "base_uri": "https://localhost:8080/"
        },
        "id": "qk7thyLGlNKY",
        "outputId": "224c1445-2a1e-4dc8-fd1f-e90ca634e8e1"
      },
      "execution_count": 82,
      "outputs": [
        {
          "output_type": "stream",
          "name": "stdout",
          "text": [
            "Fail to Reject H0 → No evidence that cost is higher.\n"
          ]
        }
      ]
    },
    {
      "cell_type": "code",
      "source": [
        "# Task 5\n",
        "# Conclusion:\n",
        "\n",
        "#Since the p-value is greater than the significance level (α = 0.05),\n",
        "#we fail to reject the null hypothesis.\n",
        "#This means the sample data does not provide sufficient statistical evidence to conclude that the average weekly operating costs are higher than ₹4000.\n",
        "#Therefore, the restaurant owner’s claim is not supported based on this analysis.\n"
      ],
      "metadata": {
        "id": "pEtzPm4HrD8B"
      },
      "execution_count": 83,
      "outputs": []
    },
    {
      "cell_type": "code",
      "source": [],
      "metadata": {
        "id": "BjIsIvehmMNZ"
      },
      "execution_count": 83,
      "outputs": []
    },
    {
      "cell_type": "code",
      "source": [
        "                            #*** CHI - SQUARE TEST ***#\n"
      ],
      "metadata": {
        "id": "nJJi5oo0sJ-W"
      },
      "execution_count": 84,
      "outputs": []
    },
    {
      "cell_type": "code",
      "source": [
        "# Background:\n",
        "#Mizzare Corporation has collected data on customer satisfaction levels for two types of smart home devices: Smart Thermostats and Smart Lights. They want to determine if there's a significant association between the type of device purchased and the customer's satisfaction level.\n",
        "\n",
        "#Data Provided:\n",
        "#The data is summarized in a contingency table showing the counts of customers in each satisfaction level for both types of devices:\n",
        "#Satisfaction\tSmart Thermostat\tSmart Light\tTotal\n",
        "#Very Satisfied\t50\t70\t120\n",
        "#Satisfied\t80\t100\t180\n",
        "#Neutral\t60\t90\t150\n",
        "#Unsatisfied\t30\t50\t80\n",
        "##Very Unsatisfied\t20\t50\t70\n",
        "#Total\t240\t360\t600\n",
        "#Objective:\n",
        "#To use the Chi-Square test for independence to determine if there's a significant association between the type of smart home device purchased (Smart Thermostats vs. Smart Lights) and the customer satisfaction level.\n"
      ],
      "metadata": {
        "id": "yoiieIyPuAO6"
      },
      "execution_count": 85,
      "outputs": []
    },
    {
      "cell_type": "code",
      "source": [
        "import pandas as pd\n",
        "#to create a  contingency table which show the counts of customers in eanch statistics level for both types of devices:\n",
        "\n",
        "# Create the contingency table\n",
        "data = {\n",
        "    \"Smart Thermostat\": [50, 80, 60, 30, 20],\n",
        "    \"Smart Light\": [70, 100, 90, 50, 50],\n",
        "    \"Total\": [120, 180, 150, 80, 70]\n",
        "}\n",
        "\n",
        "#  Create DataFrame to store values in an organized form\n",
        "table = pd.DataFrame(data,\n",
        "                     index=[\"Very Satisfied\", \"Satisfied\", \"Neutral\", \"Unsatisfied\", \"Very Unsatisfied\"])\n",
        "\n",
        "# Step 3: Add a 'Total' row at the bottom\n",
        "table.loc[\"Total\"] = table.sum()\n",
        "\n",
        "print(\"Contingency Table:\\n\")\n",
        "print(table)"
      ],
      "metadata": {
        "colab": {
          "base_uri": "https://localhost:8080/"
        },
        "id": "5pVxyHibur_1",
        "outputId": "508e63d0-369f-4b67-85be-322144b7140e"
      },
      "execution_count": 86,
      "outputs": [
        {
          "output_type": "stream",
          "name": "stdout",
          "text": [
            "Contingency Table:\n",
            "\n",
            "                  Smart Thermostat  Smart Light  Total\n",
            "Very Satisfied                  50           70    120\n",
            "Satisfied                       80          100    180\n",
            "Neutral                         60           90    150\n",
            "Unsatisfied                     30           50     80\n",
            "Very Unsatisfied                20           50     70\n",
            "Total                          240          360    600\n"
          ]
        }
      ]
    },
    {
      "cell_type": "code",
      "source": [
        "# Assignment Task\n",
        "#1. State the hypotheses\n",
        "\n",
        "# H0 (null hypothesis): no association between device and satisfaction.\n",
        "# H1 (alternative hypothesis): there is an association\n"
      ],
      "metadata": {
        "id": "YOqX4tkMwJ3m"
      },
      "execution_count": 87,
      "outputs": []
    },
    {
      "cell_type": "code",
      "source": [
        "#2. compute the chi_square statistic:\n",
        "\n",
        "from scipy.stats import chi2_contingency #this function will automtically calculate the chi_square statistic\n",
        "\n",
        "chi_stat, p_value, dof, expected = chi2_contingency(table.iloc[:-1, :-1]) #p-value ,degree of freedom,expected frequency\n",
        "\n",
        "print(\"Chi-Square Statistic:\", chi_stat)\n",
        "print(\"P-value:\", p_value)\n",
        "print(\"Degrees of Freedom:\"), dof"
      ],
      "metadata": {
        "colab": {
          "base_uri": "https://localhost:8080/"
        },
        "id": "b4sp4pTnfE-2",
        "outputId": "3d64c712-fb64-47c6-f358-a3340e1b5960"
      },
      "execution_count": 88,
      "outputs": [
        {
          "output_type": "stream",
          "name": "stdout",
          "text": [
            "Chi-Square Statistic: 5.638227513227513\n",
            "P-value: 0.22784371130697179\n",
            "Degrees of Freedom:\n"
          ]
        },
        {
          "output_type": "execute_result",
          "data": {
            "text/plain": [
              "(None, 4)"
            ]
          },
          "metadata": {},
          "execution_count": 88
        }
      ]
    },
    {
      "cell_type": "code",
      "source": [
        "#3. Determine the critical value:\n",
        "from scipy.stats import chi2\n",
        "\n",
        "alpha = 0.05 #significance level\n",
        "crit_value = chi2.ppf(1 - alpha, dof) # chi_square distribution ,ppf(percent point function)\n",
        "                                      # dof(degree of freedom) ,1-alpha for a right_tail chi_squaretest,we want the upper 5% cutoff\n",
        "                                      #since alpha=0.05 so 1-0.05=0.95.\n",
        "print(\"Critical Value:\", crit_value) #to display the critical value"
      ],
      "metadata": {
        "colab": {
          "base_uri": "https://localhost:8080/"
        },
        "id": "57h8ve4izByz",
        "outputId": "0eb87493-6fb4-454f-cb0a-c7458f954f23"
      },
      "execution_count": 89,
      "outputs": [
        {
          "output_type": "stream",
          "name": "stdout",
          "text": [
            "Critical Value: 9.487729036781154\n"
          ]
        }
      ]
    },
    {
      "cell_type": "code",
      "source": [
        "#4. Make a decision\n",
        "\n",
        "#Compare the Chi-Square statistic with the critical value to decide whether to reject the null hypothesis.\n",
        "\n",
        "if chi_stat >= crit_value:\n",
        "    print(\"Reject H0 → There is an association between device and satisfaction.\")\n",
        "else:\n",
        "    print(\"Fail to Reject H0 → No association between device and satisfaction.\")"
      ],
      "metadata": {
        "colab": {
          "base_uri": "https://localhost:8080/"
        },
        "id": "ZyIIPbv3kDCU",
        "outputId": "21a8f9bf-9826-415c-c693-75fcba692fc2"
      },
      "execution_count": 90,
      "outputs": [
        {
          "output_type": "stream",
          "name": "stdout",
          "text": [
            "Fail to Reject H0 → No association between device and satisfaction.\n"
          ]
        }
      ]
    },
    {
      "cell_type": "code",
      "source": [
        "#checking dicision using p_value\n",
        "if p_value < alpha:\n",
        "    print(\"Reject H0 \")\n",
        "else:\n",
        "    print(\"Fail to Reject H0 \")"
      ],
      "metadata": {
        "colab": {
          "base_uri": "https://localhost:8080/"
        },
        "id": "-TPWhim1k-Ps",
        "outputId": "b1ea0f0e-4452-4c26-ab41-335d61702a4e"
      },
      "execution_count": 91,
      "outputs": [
        {
          "output_type": "stream",
          "name": "stdout",
          "text": [
            "Fail to Reject H0 \n"
          ]
        }
      ]
    }
  ]
}