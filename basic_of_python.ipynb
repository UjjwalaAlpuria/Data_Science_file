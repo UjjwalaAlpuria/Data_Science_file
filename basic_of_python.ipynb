{
  "nbformat": 4,
  "nbformat_minor": 0,
  "metadata": {
    "colab": {
      "provenance": []
    },
    "kernelspec": {
      "name": "python3",
      "display_name": "Python 3"
    },
    "language_info": {
      "name": "python"
    }
  },
  "cells": [
    {
      "cell_type": "code",
      "source": [
        "# PYTHON PROGRAMMIN ASSINGNMENT\n"
      ],
      "metadata": {
        "id": "INHvDtDciYcB"
      },
      "execution_count": null,
      "outputs": []
    },
    {
      "cell_type": "code",
      "source": [
        "#EXERCISE 1: PRIME NO\n",
        "\n",
        "number=int(input(\"enter a number:\")) #taking input from user\n",
        "print(number)\n",
        "if number>1: #checking if the no. taken from user isgreater then 1(since primes must be >1)\n",
        "  for i in range(2,number):\n",
        "    if (number%i)==0: # checking for any divisors from 2 to number\n",
        "      print(number,\"is not a prime number\")\n",
        "      break\n",
        "  else:\n",
        "    print(number,\"is a prime number\")\n"
      ],
      "metadata": {
        "id": "AMJ5x7dkih-r"
      },
      "execution_count": null,
      "outputs": []
    },
    {
      "cell_type": "code",
      "source": [
        "# EXERCISE 2: PRODUCT OF RANDOM NUMBER\n",
        "\n",
        "num1 =int(input(\"enter 1st no.\")) #taking output values from user\n",
        "num2 =int(input(\"enter 2nd no.\"))\n",
        "print (\"please enter product of the no.1st and no.2nd \")\n",
        "\n",
        "user_answer =int(input(\"user answer\"))\n",
        "desired_product = num1*num2 # multiplaying no1 with no2\n",
        "\n",
        "if user_answer == desired_product: #comparing values\n",
        "  print(\"correct answer\")\n",
        "else:\n",
        "    print(\"incorect answer \")\n",
        "    print(f\"correct answeer is = {desired_product}.\")\n",
        "     # f-string it allow you to insert variable directly into a string using {}\n",
        "\n"
      ],
      "metadata": {
        "id": "SrxtqI8Kio1f",
        "colab": {
          "base_uri": "https://localhost:8080/"
        },
        "outputId": "ee807002-0d3b-406e-ad97-1c95d47463e4"
      },
      "execution_count": 50,
      "outputs": [
        {
          "output_type": "stream",
          "name": "stdout",
          "text": [
            "enter 1st no.5\n",
            "enter 2nd no.7\n",
            "please enter product of the no.1st and no.2nd \n",
            "user answer88\n",
            "incorect answer \n",
            "correct answeer is = 35.\n"
          ]
        }
      ]
    },
    {
      "cell_type": "code",
      "source": [
        "#EXERCISE 3 : SQUARE OF EVEN /ODD NUMBERS\n",
        "\n",
        "for num in range(100,201):\n",
        "  if num % 2 ==0: # if variable is divisiable from 2 it shoud not be equal to 0\n",
        "    #required result\n",
        "    print (num,\"squared is\",num**2)"
      ],
      "metadata": {
        "id": "wg0nNhOAndP1"
      },
      "execution_count": null,
      "outputs": []
    },
    {
      "cell_type": "code",
      "source": [
        "# EXERCISE 4:WORD COUNTER\n",
        "\n",
        "input_text =(input(\"enter a text:\"))\n",
        "input_text = input_text.lower()\n",
        "inpur_text=input_text.replace(\".\",\"\")\n",
        "words = input_text.split() # separatin words from sentence to individualy so we can use for loop\n",
        "#creating a empty dictionary to store the sentence word counts\n",
        "\n",
        "word_count={}\n",
        "\n",
        "for word in words:\n",
        "  if word in word_count:\n",
        "    word_count[word] +=1\n",
        "  else:\n",
        "    word_count[word]=1\n",
        "# printing requited result\n",
        "for word in word_count:\n",
        "  print(word,\":\" , word_count[word])\n",
        "\n",
        "\n"
      ],
      "metadata": {
        "id": "BKVQkK_pqd8_"
      },
      "execution_count": null,
      "outputs": []
    },
    {
      "cell_type": "code",
      "source": [
        "# EXERCISE 5: CHECK FOR PALINDROME\n",
        "\n",
        "def is_palindrome(text):\n",
        "  text=text.lower()\n",
        "  cleaned=\"\"\n",
        "  for char in text: #creating a for loop\n",
        "    if char.isalnum():\n",
        "      cleaned = cleaned =char\n",
        "#removing all the spaces,punctuation and capitalization by using cleaned\n",
        "  n= len(cleaned)\n",
        "  for i in range (n//2):\n",
        "      if  cleaned[i]!=cleaned [n-1-i]:\n",
        "        return False\n",
        "  return True\n",
        "\n",
        "  #take input\n",
        "user_input = input(\"\")\n",
        "  #output as expected to be print\n",
        "print(\"Input:\",user_input)\n",
        "print(\"Expected output:\",is_palindrome(user_input))\n",
        "\n"
      ],
      "metadata": {
        "id": "P4w7qVjjulrx"
      },
      "execution_count": null,
      "outputs": []
    }
  ]
}