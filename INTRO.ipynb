{
  "nbformat": 4,
  "nbformat_minor": 0,
  "metadata": {
    "colab": {
      "provenance": [],
      "authorship_tag": "ABX9TyOx9MAKrrgllmJN07lUhKLZ",
      "include_colab_link": true
    },
    "kernelspec": {
      "name": "python3",
      "display_name": "Python 3"
    },
    "language_info": {
      "name": "python"
    }
  },
  "cells": [
    {
      "cell_type": "markdown",
      "metadata": {
        "id": "view-in-github",
        "colab_type": "text"
      },
      "source": [
        "<a href=\"https://colab.research.google.com/github/UjjwalaAlpuria/Data_Science_file/blob/main/INTRO.ipynb\" target=\"_parent\"><img src=\"https://colab.research.google.com/assets/colab-badge.svg\" alt=\"Open In Colab\"/></a>"
      ]
    },
    {
      "cell_type": "code",
      "execution_count": null,
      "metadata": {
        "id": "QL7AfwpYMBRN"
      },
      "outputs": [],
      "source": [
        "marks=100\n",
        "marks\n"
      ]
    },
    {
      "cell_type": "code",
      "source": [
        "type(marks)"
      ],
      "metadata": {
        "id": "YhI7FTrAP-Pc"
      },
      "execution_count": null,
      "outputs": []
    },
    {
      "cell_type": "code",
      "source": [
        "5**3\n"
      ],
      "metadata": {
        "id": "ylIP25bGPr9T"
      },
      "execution_count": null,
      "outputs": []
    },
    {
      "cell_type": "code",
      "source": [
        "#booleaan Operations\n",
        "\n",
        "x=True\n",
        "y=False\n"
      ],
      "metadata": {
        "id": "evTn6HYOQI_O"
      },
      "execution_count": null,
      "outputs": []
    },
    {
      "cell_type": "code",
      "source": [
        "s1 = \"my name is oshi\"\n",
        "s1.split()"
      ],
      "metadata": {
        "id": "98Qb8y2PnmpM"
      },
      "execution_count": null,
      "outputs": []
    },
    {
      "cell_type": "code",
      "source": [
        "str1 = \"welcome to data science class\"\n",
        "#str1.capitalize()\n",
        "#str1.upper()\n",
        "str1.title()\n"
      ],
      "metadata": {
        "id": "-Z_6ZljWpkl5"
      },
      "execution_count": null,
      "outputs": []
    },
    {
      "cell_type": "code",
      "source": [
        "#Condition statement\n",
        "\n",
        "a=10\n",
        "b=40\n",
        "if a>b:\n",
        "  print(\"a is greater then b \")\n",
        "  print(\"in the block\")\n",
        "  c=a+b\n",
        "  print(c)\n",
        "else:\n",
        "   print (\"b is greater\")\n",
        "   print(\"in the block \")\n",
        "   c=a*b\n",
        "   print(c)\n"
      ],
      "metadata": {
        "id": "FHIE5EQTrG33"
      },
      "execution_count": null,
      "outputs": []
    },
    {
      "cell_type": "code",
      "source": [
        "salary=45000\n",
        "if(salary>25000):\n",
        "   tax=0.20\n",
        "   print(\"hello from xyz\")\n",
        "print(\"bye....outside of if block\")\n",
        "net_sal = salary-tax*salary\n",
        "print(\"net salary=\",net_sal)"
      ],
      "metadata": {
        "id": "boMYFtlUuKQT"
      },
      "execution_count": null,
      "outputs": []
    },
    {
      "cell_type": "code",
      "source": [
        "#loop\n",
        "for num in range (1,4):\n",
        "  print (\"hello\")"
      ],
      "metadata": {
        "id": "sA0tK7cayQKV"
      },
      "execution_count": null,
      "outputs": []
    },
    {
      "cell_type": "code",
      "source": [
        "print(\"even number\")\n",
        "for num in range (0,20):\n",
        "  if num % 2==0:\n",
        "    print(num)\n",
        "\n",
        "print (\"odd number\")\n",
        "for num in range (0,20):\n",
        "  if num % 2 ==1:\n",
        "    print(num)\n"
      ],
      "metadata": {
        "collapsed": true,
        "id": "V8cKQuWY2Oc9"
      },
      "execution_count": null,
      "outputs": []
    },
    {
      "cell_type": "code",
      "source": [
        "for i in range(1,21,2):\n",
        " print (i)"
      ],
      "metadata": {
        "id": "sbsWe1dp5EsE"
      },
      "execution_count": null,
      "outputs": []
    },
    {
      "cell_type": "code",
      "source": [
        "subject = \"science\"\n",
        "#variable  value\n",
        "for i in subject:\n",
        "  print(i)"
      ],
      "metadata": {
        "id": "TlEQmGsjGzlo"
      },
      "execution_count": null,
      "outputs": []
    },
    {
      "cell_type": "code",
      "source": [
        "#name = \"oshi\"\n",
        "#for i in range (1,7):\n",
        "  #x=(name+\" \")*i\n",
        "  #print(x)\n",
        "\n",
        "name = \"oshi\"\" \"\n",
        "for y in  range (1,9):\n",
        "   print(name*y)\n",
        "\n"
      ],
      "metadata": {
        "id": "5uEVlIoRHfEN"
      },
      "execution_count": null,
      "outputs": []
    },
    {
      "cell_type": "code",
      "source": [
        "#list\n",
        "# list are mutable\n",
        "# created uing []\n",
        "\n",
        "marks=[44,45,30,32,25,44,21,12,10,36]\n",
        "\n",
        "type(marks)\n",
        "len (marks)\n",
        "sorted(marks)"
      ],
      "metadata": {
        "id": "-y96ixd_pzbx"
      },
      "execution_count": null,
      "outputs": []
    },
    {
      "cell_type": "code",
      "source": [
        "#marks.append(11)\n",
        "#marks.sort(reverse= False)\n",
        "#marks.insert(2,44)\n",
        "#marks.pop()\n",
        "print(marks)"
      ],
      "metadata": {
        "id": "KDp8EkoLrARe"
      },
      "execution_count": null,
      "outputs": []
    },
    {
      "cell_type": "code",
      "source": [
        "import sys\n",
        "print(sys.version)"
      ],
      "metadata": {
        "id": "SathzAcPtlma"
      },
      "execution_count": null,
      "outputs": []
    },
    {
      "cell_type": "code",
      "source": [
        "num=00\n",
        "if num >0:\n",
        "  print(\"positive\")\n",
        "elif num == 0:\n",
        "  print(\"it's zero\")\n",
        "else:\n",
        "  print(\"negative\")\n"
      ],
      "metadata": {
        "id": "15TG4iswsvTc"
      },
      "execution_count": null,
      "outputs": []
    },
    {
      "cell_type": "code",
      "source": [
        "name =input(\"enter your name:\")"
      ],
      "metadata": {
        "id": "o0sGhr5mWEob"
      },
      "execution_count": null,
      "outputs": []
    },
    {
      "cell_type": "code",
      "source": [
        "name"
      ],
      "metadata": {
        "id": "LfsLQbHeW316"
      },
      "execution_count": null,
      "outputs": []
    },
    {
      "cell_type": "code",
      "source": [
        "num = int(input(\"enter the number:\"))\n",
        "print(num)\n",
        "if num % 7 == 0:\n",
        "  print(\"you won number is divisible by 7 \")\n",
        "else :\n",
        "  print(\"sorry try again\")"
      ],
      "metadata": {
        "id": "mIgBPY5FW6MA"
      },
      "execution_count": null,
      "outputs": []
    },
    {
      "cell_type": "code",
      "source": [
        "marks = int(input(\"enter the marks:\"))\n",
        "if marks >=80:\n",
        "  print(\"Distinction\")\n",
        "elif marks>=60:\n",
        "  print(\"First class\")\n",
        "elif marks >= 40:\n",
        "   print(\"Pass\")\n",
        "else:\n",
        "  print(\"Fail\")\n",
        "\n"
      ],
      "metadata": {
        "id": "XQaK0bVFaLH6"
      },
      "execution_count": null,
      "outputs": []
    },
    {
      "cell_type": "code",
      "source": [
        "mrklist = [21,33,70,66,58,99,40,85,10]\n",
        "for marks in mrklist:\n",
        " if marks>=80:\n",
        "  print(marks, \"--> Distinction\")\n",
        " elif marks >=60:\n",
        "  print(marks, \"--> First class\")\n",
        " elif marks >=40:\n",
        "  print(marks,\"--> Pass\")\n",
        " else:\n",
        "    print(marks,\"--> Fail\")\n",
        "\n"
      ],
      "metadata": {
        "id": "j4cUNZ3-d0FT"
      },
      "execution_count": null,
      "outputs": []
    },
    {
      "cell_type": "code",
      "source": [
        "#while loop\n",
        "cnt = 0\n",
        "while cnt < 5:\n",
        "  print (\"hellow\")\n",
        "  cnt = cnt +1\n"
      ],
      "metadata": {
        "id": "UoeEzB6y1SZZ"
      },
      "execution_count": null,
      "outputs": []
    },
    {
      "cell_type": "code",
      "source": [
        "# a square fuction\n",
        "def square(x):\n",
        "  return x**2\n",
        "\n",
        "print (square(4))\n"
      ],
      "metadata": {
        "id": "CKLKp3FsnVJy"
      },
      "execution_count": null,
      "outputs": []
    },
    {
      "cell_type": "code",
      "source": [
        "def calc_grades (marks):\n",
        "  if marks >= 80:\n",
        "    grade = \"distiction\"\n",
        "  elif marks >=60:\n",
        "    grade=\"first class\"\n",
        "  elif marks >=40:\n",
        "    grade=\"pass\"\n",
        "  else :\n",
        "    grade=\"fail\"\n",
        "\n",
        "  return grade\n"
      ],
      "metadata": {
        "id": "RJcybovH9oqY"
      },
      "execution_count": null,
      "outputs": []
    },
    {
      "cell_type": "code",
      "source": [
        "\n",
        "  print(calc_grades(68))\n"
      ],
      "metadata": {
        "id": "WqBM1yT9_hQ8"
      },
      "execution_count": null,
      "outputs": []
    },
    {
      "cell_type": "code",
      "source": [
        "list = ['mango','papaya','apple','straberry','pineapple','blurberry']\n",
        "\n",
        "for fruits in list :\n",
        "   print ( fruits .upper())"
      ],
      "metadata": {
        "id": "D1R9zPaoISGx"
      },
      "execution_count": null,
      "outputs": []
    }
  ]
}