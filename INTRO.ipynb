{
  "nbformat": 4,
  "nbformat_minor": 0,
  "metadata": {
    "colab": {
      "provenance": []
    },
    "kernelspec": {
      "name": "python3",
      "display_name": "Python 3"
    },
    "language_info": {
      "name": "python"
    }
  },
  "cells": [
    {
      "cell_type": "code",
      "execution_count": null,
      "metadata": {
        "id": "QL7AfwpYMBRN"
      },
      "outputs": [],
      "source": [
        "marks=100\n",
        "marks\n"
      ]
    },
    {
      "cell_type": "code",
      "source": [
        "type(marks)"
      ],
      "metadata": {
        "id": "YhI7FTrAP-Pc"
      },
      "execution_count": null,
      "outputs": []
    },
    {
      "cell_type": "code",
      "source": [
        "5**3\n"
      ],
      "metadata": {
        "id": "ylIP25bGPr9T"
      },
      "execution_count": null,
      "outputs": []
    },
    {
      "cell_type": "code",
      "source": [
        "#booleaan Operations\n",
        "\n",
        "x=True\n",
        "y=False\n"
      ],
      "metadata": {
        "id": "evTn6HYOQI_O"
      },
      "execution_count": null,
      "outputs": []
    },
    {
      "cell_type": "code",
      "source": [
        "s1 = \"my name is oshi\"\n",
        "s1.split()"
      ],
      "metadata": {
        "id": "98Qb8y2PnmpM"
      },
      "execution_count": null,
      "outputs": []
    },
    {
      "cell_type": "code",
      "source": [
        "str1 = \"welcome to data science class\"\n",
        "#str1.capitalize()\n",
        "#str1.upper()\n",
        "str1.title()\n"
      ],
      "metadata": {
        "id": "-Z_6ZljWpkl5"
      },
      "execution_count": null,
      "outputs": []
    },
    {
      "cell_type": "code",
      "source": [
        "#Condition statement\n",
        "\n",
        "a=10\n",
        "b=40\n",
        "if a>b:\n",
        "  print(\"a is greater then b \")\n",
        "  print(\"in the block\")\n",
        "  c=a+b\n",
        "  print(c)\n",
        "else:\n",
        "   print (\"b is greater\")\n",
        "   print(\"in the block \")\n",
        "   c=a*b\n",
        "   print(c)\n"
      ],
      "metadata": {
        "id": "FHIE5EQTrG33"
      },
      "execution_count": null,
      "outputs": []
    },
    {
      "cell_type": "code",
      "source": [
        "salary=45000\n",
        "if(salary>25000):\n",
        "   tax=0.20\n",
        "   print(\"hello from xyz\")\n",
        "print(\"bye....outside of if block\")\n",
        "net_sal = salary-tax*salary\n",
        "print(\"net salary=\",net_sal)"
      ],
      "metadata": {
        "id": "boMYFtlUuKQT"
      },
      "execution_count": null,
      "outputs": []
    },
    {
      "cell_type": "code",
      "source": [
        "#loop\n",
        "for num in range (1,4):\n",
        "  print (\"hello\")"
      ],
      "metadata": {
        "id": "sA0tK7cayQKV"
      },
      "execution_count": null,
      "outputs": []
    },
    {
      "cell_type": "code",
      "source": [
        "print(\"even number\")\n",
        "for num in range (0,20):\n",
        "  if num % 2==0:\n",
        "    print(num)\n",
        "\n",
        "print (\"odd number\")\n",
        "for num in range (0,20):\n",
        "  if num % 2 ==1:\n",
        "    print(num)\n",
        ""
      ],
      "metadata": {
        "collapsed": true,
        "id": "V8cKQuWY2Oc9"
      },
      "execution_count": null,
      "outputs": []
    },
    {
      "cell_type": "code",
      "source": [
        "for i in range(1,21,2):\n",
        " print (i)"
      ],
      "metadata": {
        "id": "sbsWe1dp5EsE"
      },
      "execution_count": null,
      "outputs": []
    },
    {
      "cell_type": "code",
      "source": [
        "subject = \"science\"\n",
        "#variable  value\n",
        "for i in subject:\n",
        "  print(i)"
      ],
      "metadata": {
        "id": "TlEQmGsjGzlo"
      },
      "execution_count": null,
      "outputs": []
    },
    {
      "cell_type": "code",
      "source": [],
      "metadata": {
        "id": "5uEVlIoRHfEN"
      },
      "execution_count": null,
      "outputs": []
    }
  ]
}