{
  "nbformat": 4,
  "nbformat_minor": 0,
  "metadata": {
    "colab": {
      "provenance": []
    },
    "kernelspec": {
      "name": "python3",
      "display_name": "Python 3"
    },
    "language_info": {
      "name": "python"
    }
  },
  "cells": [
    {
      "cell_type": "code",
      "execution_count": null,
      "metadata": {
        "id": "QL7AfwpYMBRN"
      },
      "outputs": [],
      "source": [
        "marks=100\n",
        "marks\n"
      ]
    },
    {
      "cell_type": "code",
      "source": [
        "type(marks)"
      ],
      "metadata": {
        "id": "YhI7FTrAP-Pc"
      },
      "execution_count": null,
      "outputs": []
    },
    {
      "cell_type": "code",
      "source": [
        "5**3\n"
      ],
      "metadata": {
        "id": "ylIP25bGPr9T"
      },
      "execution_count": null,
      "outputs": []
    },
    {
      "cell_type": "code",
      "source": [
        "#booleaan Operations\n",
        "\n",
        "x=True\n",
        "y=False\n"
      ],
      "metadata": {
        "id": "evTn6HYOQI_O"
      },
      "execution_count": null,
      "outputs": []
    },
    {
      "cell_type": "code",
      "source": [
        "s1 = \"my name is oshi\"\n",
        "s1.split()"
      ],
      "metadata": {
        "id": "98Qb8y2PnmpM"
      },
      "execution_count": null,
      "outputs": []
    },
    {
      "cell_type": "code",
      "source": [
        "str1 = \"welcome to data science class\"\n",
        "#str1.capitalize()\n",
        "#str1.upper()\n",
        "str1.title()\n"
      ],
      "metadata": {
        "id": "-Z_6ZljWpkl5"
      },
      "execution_count": null,
      "outputs": []
    },
    {
      "cell_type": "code",
      "source": [
        "#Condition statement\n",
        "\n",
        "a=10\n",
        "b=40\n",
        "if a>b:\n",
        "  print(\"a is greater then b \")\n",
        "  print(\"in the block\")\n",
        "  c=a+b\n",
        "  print(c)\n",
        "else:\n",
        "   print (\"b is greater\")\n",
        "   print(\"in the block \")\n",
        "   c=a*b\n",
        "   print(c)\n"
      ],
      "metadata": {
        "id": "FHIE5EQTrG33"
      },
      "execution_count": null,
      "outputs": []
    },
    {
      "cell_type": "code",
      "source": [
        "salary=45000\n",
        "if(salary>25000):\n",
        "   tax=0.20\n",
        "   print(\"hello from xyz\")\n",
        "print(\"bye....outside of if block\")\n",
        "net_sal = salary-tax*salary\n",
        "print(\"net salary=\",net_sal)"
      ],
      "metadata": {
        "id": "boMYFtlUuKQT"
      },
      "execution_count": null,
      "outputs": []
    },
    {
      "cell_type": "code",
      "source": [
        "#loop\n",
        "for num in range (1,4):\n",
        "  print (\"hello\")"
      ],
      "metadata": {
        "id": "sA0tK7cayQKV"
      },
      "execution_count": null,
      "outputs": []
    },
    {
      "cell_type": "code",
      "source": [
        "print(\"even number\")\n",
        "for num in range (0,20):\n",
        "  if num % 2==0:\n",
        "    print(num)\n",
        "\n",
        "print (\"odd number\")\n",
        "for num in range (0,20):\n",
        "  if num % 2 ==1:\n",
        "    print(num)\n"
      ],
      "metadata": {
        "collapsed": true,
        "id": "V8cKQuWY2Oc9"
      },
      "execution_count": null,
      "outputs": []
    },
    {
      "cell_type": "code",
      "source": [
        "for i in range(1,21,2):\n",
        " print (i)"
      ],
      "metadata": {
        "id": "sbsWe1dp5EsE"
      },
      "execution_count": null,
      "outputs": []
    },
    {
      "cell_type": "code",
      "source": [
        "subject = \"science\"\n",
        "#variable  value\n",
        "for i in subject:\n",
        "  print(i)"
      ],
      "metadata": {
        "id": "TlEQmGsjGzlo"
      },
      "execution_count": null,
      "outputs": []
    },
    {
      "cell_type": "code",
      "source": [
        "#name = \"oshi\"\n",
        "#for i in range (1,7):\n",
        "  #x=(name+\" \")*i\n",
        "  #print(x)\n",
        "\n",
        "name = \"oshi\"\" \"\n",
        "for y in  range (1,9):\n",
        "   print(name*y)\n",
        "\n"
      ],
      "metadata": {
        "id": "5uEVlIoRHfEN"
      },
      "execution_count": null,
      "outputs": []
    },
    {
      "cell_type": "code",
      "source": [
        "#list\n",
        "# list are mutable\n",
        "# created uing []\n",
        "\n",
        "marks=[44,45,30,32,25,44,21,12,10,36]\n",
        "\n",
        "type(marks)\n",
        "len (marks)\n",
        "sorted(marks)"
      ],
      "metadata": {
        "id": "-y96ixd_pzbx"
      },
      "execution_count": null,
      "outputs": []
    },
    {
      "cell_type": "code",
      "source": [
        "#marks.append(11)\n",
        "#marks.sort(reverse= False)\n",
        "#marks.insert(2,44)\n",
        "#marks.pop()\n",
        "print(marks)"
      ],
      "metadata": {
        "id": "KDp8EkoLrARe"
      },
      "execution_count": null,
      "outputs": []
    },
    {
      "cell_type": "code",
      "source": [
        "import sys\n",
        "print(sys.version)"
      ],
      "metadata": {
        "id": "SathzAcPtlma"
      },
      "execution_count": null,
      "outputs": []
    },
    {
      "cell_type": "code",
      "source": [
        "num=00\n",
        "if num >0:\n",
        "  print(\"positive\")\n",
        "elif num == 0:\n",
        "  print(\"it's zero\")\n",
        "else:\n",
        "  print(\"negative\")\n"
      ],
      "metadata": {
        "id": "15TG4iswsvTc"
      },
      "execution_count": null,
      "outputs": []
    },
    {
      "cell_type": "code",
      "source": [
        "name =input(\"enter your name:\")"
      ],
      "metadata": {
        "id": "o0sGhr5mWEob"
      },
      "execution_count": null,
      "outputs": []
    },
    {
      "cell_type": "code",
      "source": [
        "name"
      ],
      "metadata": {
        "id": "LfsLQbHeW316"
      },
      "execution_count": null,
      "outputs": []
    },
    {
      "cell_type": "code",
      "source": [
        "num = int(input(\"enter the number:\"))\n",
        "print(num)\n",
        "if num % 7 == 0:\n",
        "  print(\"you won number is divisible by 7 \")\n",
        "else :\n",
        "  print(\"sorry try again\")"
      ],
      "metadata": {
        "id": "mIgBPY5FW6MA"
      },
      "execution_count": null,
      "outputs": []
    },
    {
      "cell_type": "code",
      "source": [
        "marks = int(input(\"enter the marks:\"))\n",
        "if marks >=80:\n",
        "  print(\"Distinction\")\n",
        "elif marks>=60:\n",
        "  print(\"First class\")\n",
        "elif marks >= 40:\n",
        "   print(\"Pass\")\n",
        "else:\n",
        "  print(\"Fail\")\n",
        "\n"
      ],
      "metadata": {
        "id": "XQaK0bVFaLH6"
      },
      "execution_count": null,
      "outputs": []
    },
    {
      "cell_type": "code",
      "source": [
        "mrklist = [21,33,70,66,58,99,40,85,10]\n",
        "for marks in mrklist:\n",
        " if marks>=80:\n",
        "  print(marks, \"--> Distinction\")\n",
        " elif marks >=60:\n",
        "  print(marks, \"--> First class\")\n",
        " elif marks >=40:\n",
        "  print(marks,\"--> Pass\")\n",
        " else:\n",
        "    print(marks,\"--> Fail\")\n",
        "\n"
      ],
      "metadata": {
        "id": "j4cUNZ3-d0FT"
      },
      "execution_count": null,
      "outputs": []
    },
    {
      "cell_type": "code",
      "source": [
        "#while loop\n",
        "cnt = 0\n",
        "while cnt < 5:\n",
        "  print (\"hellow\")\n",
        "  cnt = cnt +1\n"
      ],
      "metadata": {
        "id": "UoeEzB6y1SZZ"
      },
      "execution_count": null,
      "outputs": []
    },
    {
      "cell_type": "code",
      "source": [
        "# a square fuction\n",
        "def square(x):\n",
        "  return x**2\n",
        "\n",
        "print (square(4))\n"
      ],
      "metadata": {
        "id": "CKLKp3FsnVJy"
      },
      "execution_count": null,
      "outputs": []
    },
    {
      "cell_type": "code",
      "source": [
        "def calc_grades (marks):\n",
        "  if marks >= 80:\n",
        "    grade = \"distiction\"\n",
        "  elif marks >=60:\n",
        "    grade=\"first class\"\n",
        "  elif marks >=40:\n",
        "    grade=\"pass\"\n",
        "  else :\n",
        "    grade=\"fail\"\n",
        "\n",
        "  return grade\n"
      ],
      "metadata": {
        "id": "RJcybovH9oqY"
      },
      "execution_count": null,
      "outputs": []
    },
    {
      "cell_type": "code",
      "source": [
        "\n",
        "  print(calc_grades(68))\n"
      ],
      "metadata": {
        "id": "WqBM1yT9_hQ8"
      },
      "execution_count": null,
      "outputs": []
    },
    {
      "cell_type": "code",
      "source": [
        "list1= ['mango','papaya','apple','straberry','pineapple','blurberry']\n",
        "for fruits in list1 :\n",
        "   print ( fruits .upper())\n",
        "\n"
      ],
      "metadata": {
        "id": "x1EXbCezIjnB"
      },
      "execution_count": null,
      "outputs": []
    },
    {
      "cell_type": "code",
      "source": [
        "list2=[]\n",
        "list3=[]\n",
        "\n",
        "for fruits in list1:\n",
        "  if 'berry' in fruits:\n",
        "     list2.append(fruits)\n",
        "  else :\n",
        "    list3.append(fruits)\n",
        "\n",
        "print(\"original list\",list1)\n",
        "print(\"berry list\",list2)\n",
        "print(\"non berry list\",list3)"
      ],
      "metadata": {
        "id": "LjWCGIhaIrNN"
      },
      "execution_count": null,
      "outputs": []
    },
    {
      "cell_type": "code",
      "source": [
        "#LIST\n",
        "#data structur\n",
        "#mutable\n",
        "#create using []\n",
        "\n",
        "#list3 [0:4]\n",
        "#list3 [-1:-6:-1]\n",
        "#list3 [-1::-4]\n",
        "#list1.index('apple')\n",
        "list1[3]=\"orange\"\n",
        "list1\n"
      ],
      "metadata": {
        "id": "IiZgYPzHCx1f"
      },
      "execution_count": null,
      "outputs": []
    },
    {
      "cell_type": "code",
      "source": [
        "n1 = list (range(1,31))\n",
        "print(n1)"
      ],
      "metadata": {
        "id": "_CbqtBAm7Dg3"
      },
      "execution_count": null,
      "outputs": []
    },
    {
      "cell_type": "code",
      "source": [
        "n1[1:27:5]"
      ],
      "metadata": {
        "id": "_hPnPwGoBUXj"
      },
      "execution_count": null,
      "outputs": []
    },
    {
      "cell_type": "code",
      "source": [
        "l1=[1,2,3,4,5,6]\n",
        "l2=[]\n",
        "\n",
        "for i in l1 :\n",
        "  l2.append(i**2)\n",
        "\n",
        "print(\"number=\",l1)\n",
        "print(\"square of number=\",l2)\n"
      ],
      "metadata": {
        "id": "WSGxcZpgFcdh"
      },
      "execution_count": null,
      "outputs": []
    },
    {
      "cell_type": "code",
      "source": [
        "#TUPLE\n",
        "#data structur\n",
        "#non mutable\n",
        "#create using ()\n",
        "\n",
        "t1 =(1,2,3,4,5,6)\n",
        "#t1\n",
        "#type(t1)\n",
        "#t1*3\n",
        "#dir (t1)\n",
        "#t3 = t1 +(7,8,9,10,11)\n",
        "\n",
        "#t1.index(6)\n",
        "t1.count(6)\n",
        "\n",
        "\n",
        "\n",
        "\n",
        "\n"
      ],
      "metadata": {
        "id": "cyvTo9IDPhs4"
      },
      "execution_count": null,
      "outputs": []
    },
    {
      "cell_type": "code",
      "source": [
        "#DICTIONARY\n",
        "#data structure\n",
        "#key name : value\n",
        "#written with {}\n",
        "# we do not have concept of index.\n",
        "#value can be repeated but key shoud be unique.\n",
        "\n",
        "\n",
        "capital_dict = {\"Nepal\": \"Kathmandu\", \"Italy\": \"Rome\", \"England\": \"London\"}\n",
        "#capital_dict\n",
        "#type(capital_dict)\n",
        "#dir(dict)\n",
        "#capital_dict[\"Nepal\"] ,# HOW TO ACCESS ELEMENTS OF DICTIONARY\n",
        "#key()=give the value of key of the dictionary and return  the list of keys as a view object\n",
        "#value()= ------\"--------\n",
        "#items()= return both key and value and display a list of dictionary(key,value) tuple pont\n",
        "\n",
        "\n",
        "key1 = capital_dict.keys()\n",
        "key1\n",
        "value = capital_dict.values()\n",
        "value\n",
        "item = capital_dict.items()\n",
        "item\n",
        "\n",
        "add_capital={\"Japan\":\"Tokyo\",\"India\":\"New Delhi\"}\n",
        "capital_dict.update(add_capital)\n",
        "capital_dict\n",
        "\n",
        "\n"
      ],
      "metadata": {
        "id": "YfGtcAYXWowN"
      },
      "execution_count": null,
      "outputs": []
    },
    {
      "cell_type": "code",
      "source": [
        "#capital_dict.update({\"Australia\":\"Sydney\"})\n",
        "capital_dict[\"abc\"]=\"mumbai\"\n",
        "capital_dict"
      ],
      "metadata": {
        "colab": {
          "base_uri": "https://localhost:8080/"
        },
        "id": "oFi2L6C9sEik",
        "outputId": "9b5c73ed-7074-4c84-fdd5-dabfeb76e763"
      },
      "execution_count": null,
      "outputs": [
        {
          "output_type": "execute_result",
          "data": {
            "text/plain": [
              "{'Italy': 'Rome',\n",
              " 'England': 'London',\n",
              " 'Japan': 'Tokyo',\n",
              " 'India': 'New Delhi',\n",
              " 'Australia': 'Sydney',\n",
              " 'abc': 'mumbai'}"
            ]
          },
          "metadata": {},
          "execution_count": 31
        }
      ]
    },
    {
      "cell_type": "code",
      "source": [
        "capital_dict.pop(\"Nepal\")\n"
      ],
      "metadata": {
        "id": "5RM710mZs9RI"
      },
      "execution_count": null,
      "outputs": []
    },
    {
      "cell_type": "code",
      "source": [
        "mylist=[\"mango\",\"orange\",\"apple\",]\n",
        "mytuple=(1,2,3,4,5,6,7,8)\n",
        "mydict={\"A\":mylist,\n",
        "        \"B\":mytuple ,\n",
        "        \"C\":capital_dict}\n",
        "\n",
        "\n",
        "#if there is dictionary inside a dictionary so you have to write both the key\n",
        "mydict[\"B\"][2]\n"
      ],
      "metadata": {
        "colab": {
          "base_uri": "https://localhost:8080/"
        },
        "id": "-RVLzdtjE16-",
        "outputId": "b8703f14-69b6-4135-c34f-3c83e1b35d73"
      },
      "execution_count": null,
      "outputs": [
        {
          "output_type": "execute_result",
          "data": {
            "text/plain": [
              "3"
            ]
          },
          "metadata": {},
          "execution_count": 39
        }
      ]
    },
    {
      "cell_type": "code",
      "source": [
        "#how to solve math problem by using import math fuctions\n",
        "from math import sqrt\n",
        "sqrt(25)\n",
        "factorial(5)\n",
        "\n",
        "from math import*\n",
        "\n",
        "cos (1)\n",
        "\n",
        "import math as mt\n",
        "mt.cos(1)\n",
        "mt.sqrt(25)\n"
      ],
      "metadata": {
        "colab": {
          "base_uri": "https://localhost:8080/"
        },
        "id": "AVAL8h2HIYF0",
        "outputId": "bcf08597-1c96-411f-9901-5e5be5946fd1"
      },
      "execution_count": null,
      "outputs": [
        {
          "output_type": "execute_result",
          "data": {
            "text/plain": [
              "5.0"
            ]
          },
          "metadata": {},
          "execution_count": 58
        }
      ]
    },
    {
      "cell_type": "code",
      "source": [],
      "metadata": {
        "id": "zON5TTeyOTjC"
      },
      "execution_count": null,
      "outputs": []
    }
  ]
}